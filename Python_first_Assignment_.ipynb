{
  "nbformat": 4,
  "nbformat_minor": 0,
  "metadata": {
    "colab": {
      "provenance": []
    },
    "kernelspec": {
      "name": "python3",
      "display_name": "Python 3"
    },
    "language_info": {
      "name": "python"
    }
  },
  "cells": [
    {
      "cell_type": "markdown",
      "source": [
        "1.\tWhat is python, why is it Popular?\n",
        "  - Python is a high-level, interpreted programming language known for its simplicity, readability, and versatility. It was created by Guido van Rossum in the late 1980s and officially released in 1991. Python is widely used in various domains, including data science, web development, automation, machine learning, artificial intelligence, and more.\n",
        "\n",
        "       i Ease of Learning and Use\n",
        "\n",
        "       ii Versatility\n",
        "\n",
        "       iii Rich Ecosystem of Libraries and Frameworks\n",
        "\n",
        "        iv Cross-Platform Compatibility\n",
        "\n",
        "         v Community Support\n",
        "\n",
        "         vi Integration with Other Languages and Tools.\n",
        "\n",
        "   2.  What is an interpreter in Python?\n",
        "        -  An interpreter in Python is a program that reads and executes Python code line by line,    translating it into machine-readable instructions that your computer can understand and run.\n",
        "      When you write Python code, it’s in a human-readable format. The interpreter processes this code, checks for errors, and executes it immediately. This is why Python is called an interpreted language.\n",
        "\n",
        "   3. What are pre-defined keywords in Python?\n",
        "        - In Python, pre-defined keywords are reserved words that have specific meanings and purposes in the language. We cannot use them as identifiers e.g., variable names, function names because they are part of Python’s syntax.\n",
        "        Common Features of Keywords:\n",
        "        They are case-sensitive (e.g., True is a keyword, but true is not).\n",
        "        They control the flow of a program, define structures, and handle exceptions.\n",
        "\n",
        "     4. can keywords be used as variable names?\n",
        "        - No, keywords cannot be used as variable names in Python. Keywords are reserved words in the Python language with special meanings, and trying to use them as variable names will result in a syntax error.\n",
        "   \n",
        "   5. What is Mutability?\n",
        "        - Mutability in Python refers to whether an object can be changed after it is created. Objects in Python are categorized into two types based on mutability:\n",
        "         Mutable Objects\n",
        "\n",
        "          \tThese objects can be modified after they are created.\n",
        "\n",
        "    6. Why are Lists Mutable, but tuples are immutable?\n",
        "        -  Lists are designed to be dynamic, allowing modification like adding, removing, or updating elements. They are intended for use cases where the data may need to change frequently.\n",
        "Lists store references to their elements in a resizable array. We can directly alter the array contents without creating a new object, making them mutable.\n",
        "Tuples are meant to represent fixed collections of data where the contents should not change (e.g., coordinates, configurations, or constant data). This immutability helps ensure data integrity and reduces unintended changes.\n",
        "When a tuple is created, its contents are fixed, and Python optimizes memory usage by storing the tuple as a single object. Modifying a tuple would require creating an entirely new tuple object.\n",
        "\n",
        "  7. what is the difference between = = and, is operators in Python.”\n",
        "    - In Python, = = and is are two different operators, and they are used for different purposes.\n",
        "\n",
        "       = = (Equality Operator)\n",
        "       Purpose: Checks if the values of two objects are equal.\n",
        "      Comparison: Compares the actual data or value of the objects.\n",
        "\n",
        "        is (Identity Operator):\n",
        "     Purpose: Checks if two objects refer to the same object in memory (i.e., if they have the same identity).\n",
        "      Comparison: Compares the memory addresses of the objects.\n",
        "\n",
        "   8. what are logical operators in python?\n",
        "       - In Python, logical operators are used to combine conditional statements or expressions. They evaluate to True or False and allow for more complex decision-making in programs. There are three logical operators in Python:\n",
        "\n",
        "         1. and\n",
        "      Description: Returns True if both conditions are True; otherwise, it returns False.\n",
        "Syntax: condition1 and condition2\n",
        "\n",
        "         2. or\n",
        "      Description: Returns True if at least one condition is True; returns False only if both conditions are False.\n",
        "      Syntax: condition1 or condition\n",
        "        3. not\n",
        "      Description: Returns the opposite of the condition's result. If the condition is True, not makes it False, and vice versa.\n",
        "      Syntax: not condition\n",
        "\n",
        "   9. What is Type Casting in Python?\n",
        "        - Type casting (or type conversion) is the process of converting a variable from one data type to another. In Python, this can be done explicitly (manual conversion) or implicitly (automatic conversion by Python).\n",
        "\n",
        "    10. what is the difference between implicit and explicit type casting?\n",
        "        - The main difference between implicit and explicit type casting lies in who performs the conversion and how it is triggered.\n",
        "        1. Implicit Type Casting\n",
        "        •\t Type conversion is done automatically by Python without the programmer needing to write any code for it.\n",
        "\n",
        "            •\tPython automatically converts one data type to another when it’s safe (no data loss or precision issues).\n",
        "\n",
        "           •\tTypically happens when mixing compatible types in expressions (e.g., integers and floats).\n",
        "\n",
        "        2. Explicit Type Casting\n",
        "      •\t Type conversion is done manually by the programmer using Python's built-in functions like int(), float(), str(), etc.\n",
        "\n",
        "           •\t The programmer explicitly specifies how to convert one data type into another.\n",
        "\n",
        "             • Mixing incompatible types.\n",
        "             A specific type conversion is required (e.g., string to integer).\n",
        "            Python does not perform implicit conversion automatically.\n",
        "\n",
        "     11. what is the purpose of conditional statements in python?\n",
        "          - The purpose of conditional statements in Python is to allow the program to make decisions and execute different blocks of code based on whether certain conditions are true or false. This enables program to handle various situations dynamically, rather than executing the same set of instructions every time.\n",
        "        Key Objectives of Conditional Statements:\n",
        "          1.\tDecision Making:\n",
        "•\tExecute a block of code only if a specified condition is met.\n",
        "•\tExample: Only allow access if a user is logged in.\n",
        "          2.\tControl Flow:\n",
        "•\tChange the program's flow based on logical conditions. Without conditionals, programs would run linearly.\n",
        "•\tExample: Branching logic for user inputs in a menu system.\n",
        "          3.\tDynamic Behaviour:\n",
        "•\tReact to different inputs or states and adjust accordingly.\n",
        "       \n",
        "\n",
        "  12. How does the elif Statement Works ?\n",
        "         - The elif statement is used in Python to test multiple conditions sequentially. It allows you to specify additional conditions after an initial if statement, providing an efficient way to handle multiple branching logic.\n",
        "\n",
        "         How It Works\n",
        "          1.\tThe program evaluates the conditions in order from top to bottom.\n",
        "           2.\tIf a condition is True, the corresponding block of code is executed, and the rest of the elif or else blocks are skipped.\n",
        "           3.\tIf none of the if or elif conditions evaluate to True, the else block (if present) is executed.\n",
        "\n",
        "     13. what is the difference between for and while loops?\n",
        "          - The primary difference between for loops and while loops in Python lies in their use cases and how they control the repetition of code blocks.\n",
        "          1. for Loop\n",
        "          •\tA for loop is used when we know in advance the number of iterations or when we need to iterate over a sequence (e.g., a list, range, string, or dictionary).\n",
        "          2. while Loop\n",
        "          • A while loop is used when we don’t know the number of iterations in advance but want to repeat a block of code until a condition is no longer true.\n",
        "\n",
        "    14. Describe a scenario where a while loop is more suitable than a for loop.\n",
        "       - Imagine we're creating a program where the user is required to input a number within a specific range, such as between 1 and 10. The program should keep asking the user for input until they provide a valid number.\n",
        "      In this case, the number of iterations required is unknown in advance because it depends on when the user provides valid input. A while loop is perfect for this dynamic, condition-driven situation.\n",
        "\n",
        "\n",
        "\n",
        "   \n",
        "    \n",
        "\n",
        "\n",
        "    \n",
        "\n",
        "   \n",
        "\n",
        "\n",
        "   \n",
        "\n",
        "    \n",
        "\n",
        "      \n",
        "\n",
        "\n",
        "\n"
      ],
      "metadata": {
        "id": "57Yt-tVaUF9o"
      }
    },
    {
      "cell_type": "code",
      "source": [
        "# Write a python program to print \"Hello, World!\"\n",
        "print(\"Hello, World!\")"
      ],
      "metadata": {
        "colab": {
          "base_uri": "https://localhost:8080/"
        },
        "id": "udVda7x-f5Gr",
        "outputId": "e5ffc917-c687-4ae1-8894-bb02489fdcf5"
      },
      "execution_count": null,
      "outputs": [
        {
          "output_type": "stream",
          "name": "stdout",
          "text": [
            "Hello, World!\n"
          ]
        }
      ]
    },
    {
      "cell_type": "code",
      "source": [
        "# Write a python program that displays your name and age.\n",
        "name = input(\"Enter your name: \")\n",
        "age = input(\"Enter your age: \")\n",
        "print(\"Name:\", name)\n",
        "print(\"age:\", age)"
      ],
      "metadata": {
        "id": "JIQYNE-ihAeB",
        "colab": {
          "base_uri": "https://localhost:8080/"
        },
        "outputId": "1e96d975-77e1-48c7-db82-44f3d27a36a8"
      },
      "execution_count": null,
      "outputs": [
        {
          "output_type": "stream",
          "name": "stdout",
          "text": [
            "Enter your name: NIKHIL\n",
            "Enter your age: 25\n",
            "Name: NIKHIL\n",
            "age: 25\n"
          ]
        }
      ]
    },
    {
      "cell_type": "code",
      "source": [
        "# Write code to print all the pre-defined keywords in python using the keyword library.\n",
        "help(\"keywords\")\n",
        "\n",
        "\n",
        "\n"
      ],
      "metadata": {
        "id": "IXanqmRgkX-1",
        "colab": {
          "base_uri": "https://localhost:8080/"
        },
        "outputId": "d524a3bc-d5ef-43c7-ef57-a9fe90b37c0e"
      },
      "execution_count": null,
      "outputs": [
        {
          "output_type": "stream",
          "name": "stdout",
          "text": [
            "\n",
            "Here is a list of the Python keywords.  Enter any keyword to get more help.\n",
            "\n",
            "False               class               from                or\n",
            "None                continue            global              pass\n",
            "True                def                 if                  raise\n",
            "and                 del                 import              return\n",
            "as                  elif                in                  try\n",
            "assert              else                is                  while\n",
            "async               except              lambda              with\n",
            "await               finally             nonlocal            yield\n",
            "break               for                 not                 \n",
            "\n"
          ]
        }
      ]
    },
    {
      "cell_type": "markdown",
      "source": [],
      "metadata": {
        "id": "r2SgAAl4fp36"
      }
    },
    {
      "cell_type": "code",
      "source": [
        "# Write a program that checks if a given word is apythan keyword.\n",
        "import keyword\n",
        "keyword.iskeyword('class')"
      ],
      "metadata": {
        "colab": {
          "base_uri": "https://localhost:8080/"
        },
        "id": "wKD49BDMHQsI",
        "outputId": "c0f7fb86-ef63-4a75-ee4f-94038b7dd8d2"
      },
      "execution_count": null,
      "outputs": [
        {
          "output_type": "execute_result",
          "data": {
            "text/plain": [
              "True"
            ]
          },
          "metadata": {},
          "execution_count": 2
        }
      ]
    },
    {
      "cell_type": "code",
      "source": [
        "import keyword\n",
        "keyword.iskeyword('world')"
      ],
      "metadata": {
        "colab": {
          "base_uri": "https://localhost:8080/"
        },
        "id": "Wc4-1xzeIoCI",
        "outputId": "10212784-a23c-4827-f69b-5ea9bcb7865d"
      },
      "execution_count": null,
      "outputs": [
        {
          "output_type": "execute_result",
          "data": {
            "text/plain": [
              "False"
            ]
          },
          "metadata": {},
          "execution_count": 3
        }
      ]
    },
    {
      "cell_type": "code",
      "source": [
        "# Create a list and tuple in python,and demonstrate how attempting to change an element works differently for each.\n",
        "# creating a list\n",
        "b = [1,2,3,4,5]\n",
        "type(b)"
      ],
      "metadata": {
        "colab": {
          "base_uri": "https://localhost:8080/"
        },
        "id": "qOVK75JYI_pH",
        "outputId": "01865d11-5eb3-49d5-e02d-84129e667dc4"
      },
      "execution_count": null,
      "outputs": [
        {
          "output_type": "execute_result",
          "data": {
            "text/plain": [
              "list"
            ]
          },
          "metadata": {},
          "execution_count": 4
        }
      ]
    },
    {
      "cell_type": "code",
      "source": [
        "b[0]"
      ],
      "metadata": {
        "colab": {
          "base_uri": "https://localhost:8080/"
        },
        "id": "_jLd7wNMJ9am",
        "outputId": "7a1cfcff-c015-4943-a9fd-ae2067ee233d"
      },
      "execution_count": null,
      "outputs": [
        {
          "output_type": "execute_result",
          "data": {
            "text/plain": [
              "1"
            ]
          },
          "metadata": {},
          "execution_count": 5
        }
      ]
    },
    {
      "cell_type": "code",
      "source": [
        "b[0] = \"India\"\n",
        "b"
      ],
      "metadata": {
        "colab": {
          "base_uri": "https://localhost:8080/"
        },
        "id": "AdxjjXnxKIkU",
        "outputId": "843574c2-8493-4fd2-b2c0-b5f98f73af86"
      },
      "execution_count": null,
      "outputs": [
        {
          "output_type": "execute_result",
          "data": {
            "text/plain": [
              "['India', 2, 3, 4, 5]"
            ]
          },
          "metadata": {},
          "execution_count": 6
        }
      ]
    },
    {
      "cell_type": "code",
      "source": [
        "# Write a function to demonstrate the behavior of mutability and immutability arguments.\n",
        "list_cont = [1,2,3,4.3,3+5j,True,\"Ram\"]\n",
        "list_cont"
      ],
      "metadata": {
        "id": "U8QLYydlSACi",
        "colab": {
          "base_uri": "https://localhost:8080/"
        },
        "outputId": "11a75c3d-2b3c-49a0-bd36-23e3f89e5e25"
      },
      "execution_count": null,
      "outputs": [
        {
          "output_type": "execute_result",
          "data": {
            "text/plain": [
              "[1, 2, 3, 4.3, (3+5j), True, 'Ram']"
            ]
          },
          "metadata": {},
          "execution_count": 20
        }
      ]
    },
    {
      "cell_type": "code",
      "source": [
        "list_cont[3]"
      ],
      "metadata": {
        "colab": {
          "base_uri": "https://localhost:8080/"
        },
        "id": "CHnSuFXnW5M2",
        "outputId": "7ac3eb3c-1962-4a72-f501-b68e3810fc1b"
      },
      "execution_count": null,
      "outputs": [
        {
          "output_type": "execute_result",
          "data": {
            "text/plain": [
              "4.3"
            ]
          },
          "metadata": {},
          "execution_count": 21
        }
      ]
    },
    {
      "cell_type": "code",
      "source": [
        "list_cont[3] = 400\n",
        "list_cont"
      ],
      "metadata": {
        "colab": {
          "base_uri": "https://localhost:8080/"
        },
        "id": "WSUPeL4bXNG-",
        "outputId": "efd1a65a-a8da-4dfb-f98e-102533a37630"
      },
      "execution_count": null,
      "outputs": [
        {
          "output_type": "execute_result",
          "data": {
            "text/plain": [
              "[1, 2, 3, 400, (3+5j), True, 'Ram']"
            ]
          },
          "metadata": {},
          "execution_count": 22
        }
      ]
    },
    {
      "cell_type": "code",
      "source": [
        "d = \"bharat\"\n",
        "d"
      ],
      "metadata": {
        "colab": {
          "base_uri": "https://localhost:8080/",
          "height": 36
        },
        "id": "3jsfEw-MYdcr",
        "outputId": "18abc8f3-af28-457f-f9af-0c228672a023"
      },
      "execution_count": null,
      "outputs": [
        {
          "output_type": "execute_result",
          "data": {
            "text/plain": [
              "'bharat'"
            ],
            "application/vnd.google.colaboratory.intrinsic+json": {
              "type": "string"
            }
          },
          "metadata": {},
          "execution_count": 23
        }
      ]
    },
    {
      "cell_type": "code",
      "source": [
        "d[0] \"r\"  # string is immutable"
      ],
      "metadata": {
        "colab": {
          "base_uri": "https://localhost:8080/",
          "height": 106
        },
        "id": "gpL6cdRwYlcb",
        "outputId": "579a7cea-cba7-4bf9-e384-575287b958f0"
      },
      "execution_count": null,
      "outputs": [
        {
          "output_type": "error",
          "ename": "SyntaxError",
          "evalue": "invalid syntax (<ipython-input-25-2ab871d0cf2b>, line 1)",
          "traceback": [
            "\u001b[0;36m  File \u001b[0;32m\"<ipython-input-25-2ab871d0cf2b>\"\u001b[0;36m, line \u001b[0;32m1\u001b[0m\n\u001b[0;31m    d[0] \"r\"\u001b[0m\n\u001b[0m         ^\u001b[0m\n\u001b[0;31mSyntaxError\u001b[0m\u001b[0;31m:\u001b[0m invalid syntax\n"
          ]
        }
      ]
    },
    {
      "cell_type": "code",
      "source": [
        "# write a program to demonstrate the use of logical operators.\n",
        "Bread = True\n",
        "Tea = True\n",
        "if Bread and Tea:\n",
        "  print ('I will eat more')"
      ],
      "metadata": {
        "colab": {
          "base_uri": "https://localhost:8080/"
        },
        "id": "6If3yq5MY0GV",
        "outputId": "51130476-c3ab-4b7e-a987-b66ba0cbaef6"
      },
      "execution_count": null,
      "outputs": [
        {
          "output_type": "stream",
          "name": "stdout",
          "text": [
            "I will eat more\n"
          ]
        }
      ]
    },
    {
      "cell_type": "code",
      "source": [
        "film = True\n",
        "TV = False\n",
        "if film or Tv:\n",
        "  print('I will watch more')"
      ],
      "metadata": {
        "colab": {
          "base_uri": "https://localhost:8080/"
        },
        "id": "YVTWhbE_bBRx",
        "outputId": "7d2fce01-0356-4b8b-8606-db9a06e03c51"
      },
      "execution_count": null,
      "outputs": [
        {
          "output_type": "stream",
          "name": "stdout",
          "text": [
            "I will watch more\n"
          ]
        }
      ]
    },
    {
      "cell_type": "code",
      "source": [
        "# write a python program to convert user input from string to integer, float, and boolean types.\n",
        "# string to integer\n",
        "a = \"2\"\n",
        "print(type(a))\n",
        "print(type(int(a)))"
      ],
      "metadata": {
        "colab": {
          "base_uri": "https://localhost:8080/"
        },
        "id": "iNXlXw0xbyYG",
        "outputId": "4db10bc6-ae5e-4c18-c9dc-83908a9f7b02"
      },
      "execution_count": null,
      "outputs": [
        {
          "output_type": "stream",
          "name": "stdout",
          "text": [
            "<class 'str'>\n",
            "<class 'int'>\n"
          ]
        }
      ]
    },
    {
      "cell_type": "code",
      "source": [
        "# string to float\n",
        "a = \"2.3\"\n",
        "type(a)"
      ],
      "metadata": {
        "colab": {
          "base_uri": "https://localhost:8080/"
        },
        "id": "THDy7TN7csJx",
        "outputId": "baf63547-b9c7-486d-bafc-f408f83f1e97"
      },
      "execution_count": null,
      "outputs": [
        {
          "output_type": "execute_result",
          "data": {
            "text/plain": [
              "str"
            ]
          },
          "metadata": {},
          "execution_count": 32
        }
      ]
    },
    {
      "cell_type": "code",
      "source": [
        "float(a)"
      ],
      "metadata": {
        "colab": {
          "base_uri": "https://localhost:8080/"
        },
        "id": "DkDz1dUYd2_7",
        "outputId": "dab510c7-2332-4d9e-bdaf-f835258a8893"
      },
      "execution_count": null,
      "outputs": [
        {
          "output_type": "execute_result",
          "data": {
            "text/plain": [
              "2.3"
            ]
          },
          "metadata": {},
          "execution_count": 33
        }
      ]
    },
    {
      "cell_type": "code",
      "source": [
        "bool(\"Nikhil\")"
      ],
      "metadata": {
        "colab": {
          "base_uri": "https://localhost:8080/"
        },
        "id": "Tj4jWfd-eIAV",
        "outputId": "53998903-5e7d-4782-f39a-bd2e7602b809"
      },
      "execution_count": null,
      "outputs": [
        {
          "output_type": "execute_result",
          "data": {
            "text/plain": [
              "True"
            ]
          },
          "metadata": {},
          "execution_count": 34
        }
      ]
    },
    {
      "cell_type": "code",
      "source": [
        "# Write code to demonstrate type casting with list elements.\n",
        "list_cont = [1,2,3,4.3,3+5j,True,\"lakhan\"]\n",
        "list_count = int\n",
        "\n",
        "\n"
      ],
      "metadata": {
        "id": "nPU4ZcKLeO_8"
      },
      "execution_count": 5,
      "outputs": []
    },
    {
      "cell_type": "code",
      "source": [
        "# Write a program that checks if a number is positive, negative, or Zero.\n",
        "a = int(input(\"enter a number\"))\n",
        "if a > 0:\n",
        "    print(\"positive\")\n",
        "elif a < 0:\n",
        "    print(\"negative or zero\")\n",
        ""
      ],
      "metadata": {
        "colab": {
          "base_uri": "https://localhost:8080/"
        },
        "id": "kvnSPDE8YzQc",
        "outputId": "ee8cba98-3a58-4bf9-bb6d-48cf2aafe77f"
      },
      "execution_count": 6,
      "outputs": [
        {
          "output_type": "stream",
          "name": "stdout",
          "text": [
            "enter a number56\n",
            "positive\n"
          ]
        }
      ]
    },
    {
      "cell_type": "code",
      "source": [
        " # Write a for loop to print numbers from 1 to 10.\n",
        " For i in range (1,11):\n",
        " print(i)\n"
      ],
      "metadata": {
        "colab": {
          "base_uri": "https://localhost:8080/",
          "height": 106
        },
        "id": "J-NooALoZe1C",
        "outputId": "ac3b4474-a7d3-4c86-c83e-085b0e886c30"
      },
      "execution_count": 8,
      "outputs": [
        {
          "output_type": "error",
          "ename": "SyntaxError",
          "evalue": "invalid syntax (<ipython-input-8-f0187967ccca>, line 2)",
          "traceback": [
            "\u001b[0;36m  File \u001b[0;32m\"<ipython-input-8-f0187967ccca>\"\u001b[0;36m, line \u001b[0;32m2\u001b[0m\n\u001b[0;31m    For i in range (1,11):\u001b[0m\n\u001b[0m        ^\u001b[0m\n\u001b[0;31mSyntaxError\u001b[0m\u001b[0;31m:\u001b[0m invalid syntax\n"
          ]
        }
      ]
    },
    {
      "cell_type": "code",
      "source": [
        "# write a python program to find the sum of all even numbers between 1 to 50.\n",
        "list (range(0,11))\n",
        "for i in range (11):\n",
        "  print(i)\n"
      ],
      "metadata": {
        "colab": {
          "base_uri": "https://localhost:8080/"
        },
        "id": "o1Dsa4RhgrSv",
        "outputId": "e59a0b58-2882-4cb5-bff4-4aaff6db1862"
      },
      "execution_count": 9,
      "outputs": [
        {
          "output_type": "stream",
          "name": "stdout",
          "text": [
            "0\n",
            "1\n",
            "2\n",
            "3\n",
            "4\n",
            "5\n",
            "6\n",
            "7\n",
            "8\n",
            "9\n",
            "10\n"
          ]
        }
      ]
    },
    {
      "cell_type": "code",
      "source": [
        "# Write a python program to find the sum of all even numbers between 1 to 50.\n",
        "n = 50\n",
        "i = 2\n",
        "while i < n:\n",
        "  print(i)\n",
        "  i = i + 2"
      ],
      "metadata": {
        "colab": {
          "base_uri": "https://localhost:8080/"
        },
        "id": "pFcJ2Nsk1iAz",
        "outputId": "eb3fda2b-26e7-4ab8-bcbe-0b0c17166624"
      },
      "execution_count": 10,
      "outputs": [
        {
          "output_type": "stream",
          "name": "stdout",
          "text": [
            "2\n",
            "4\n",
            "6\n",
            "8\n",
            "10\n",
            "12\n",
            "14\n",
            "16\n",
            "18\n",
            "20\n",
            "22\n",
            "24\n",
            "26\n",
            "28\n",
            "30\n",
            "32\n",
            "34\n",
            "36\n",
            "38\n",
            "40\n",
            "42\n",
            "44\n",
            "46\n",
            "48\n"
          ]
        }
      ]
    }
  ]
}